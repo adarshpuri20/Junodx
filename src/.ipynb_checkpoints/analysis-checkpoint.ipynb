{
 "cells": [
  {
   "cell_type": "code",
   "execution_count": null,
   "id": "careful-control",
   "metadata": {},
   "outputs": [],
   "source": [
    "import pandas as pd\n",
    "import matplotlib.pyplot as plt\n",
    "import seaborn as sns\n",
    "import numpy as np\n",
    "from scipy.stats import norm\n",
    "from sklearn.preprocessing import StandardScaler\n",
    "from scipy import stats\n",
    "import warnings\n",
    "warnings.filterwarnings('ignore')\n",
    "%matplotlib inline\n",
    "from plotnine.data import economics\n",
    "from plotnine import ggplot, aes, geom_line,geom_point\n",
    "from factor_analyzer import FactorAnalyzer"
   ]
  },
  {
   "cell_type": "code",
   "execution_count": null,
   "id": "similar-reputation",
   "metadata": {},
   "outputs": [],
   "source": [
    "path='C:/Users/adars/Desktop/Junodx/Data/20210412_trainingdata.csv'\n",
    "\n",
    "#Dataframe of Training Data\n",
    "df_train=pd.read_csv(path)\n",
    "path_test='C:/Users/adars/Desktop/Junodx/Data/20210412_testdata.csv'\n",
    "df_test=pd.read_csv(path_test)"
   ]
  },
  {
   "cell_type": "code",
   "execution_count": null,
   "id": "neither-country",
   "metadata": {},
   "outputs": [],
   "source": [
    "df_train.head(10)\n"
   ]
  },
  {
   "cell_type": "code",
   "execution_count": null,
   "id": "dense-bloom",
   "metadata": {},
   "outputs": [],
   "source": [
    "df_train.describe()"
   ]
  },
  {
   "cell_type": "code",
   "execution_count": null,
   "id": "three-familiar",
   "metadata": {},
   "outputs": [],
   "source": [
    "df_test.describe()"
   ]
  },
  {
   "cell_type": "code",
   "execution_count": null,
   "id": "ranging-pillow",
   "metadata": {},
   "outputs": [],
   "source": [
    "df_train['class02'].describe()"
   ]
  },
  {
   "cell_type": "code",
   "execution_count": null,
   "id": "interim-riverside",
   "metadata": {},
   "outputs": [],
   "source": [
    "sns.distplot(df_train['class01'])"
   ]
  },
  {
   "cell_type": "code",
   "execution_count": null,
   "id": "satellite-passion",
   "metadata": {},
   "outputs": [],
   "source": [
    "sns.distplot(df_train['class02'])"
   ]
  },
  {
   "cell_type": "code",
   "execution_count": null,
   "id": "preceding-wedding",
   "metadata": {},
   "outputs": [],
   "source": [
    "#scatter plot pred01/class01\n",
    "var = 'pred01'\n",
    "data = pd.concat([df_train['class01'], df_train[var]], axis=1)\n",
    "data.plot.scatter(x=var, y='class01', ylim=(0,4));"
   ]
  },
  {
   "cell_type": "code",
   "execution_count": null,
   "id": "strategic-arena",
   "metadata": {},
   "outputs": [],
   "source": [
    "#scatter plot pred01/class01\n",
    "var = 'pred01'\n",
    "data = pd.concat([df_train['class02'], df_train[var]], axis=1)\n",
    "data.plot.scatter(x=var, y='class02', ylim=(0,4));"
   ]
  },
  {
   "cell_type": "code",
   "execution_count": null,
   "id": "peaceful-mainland",
   "metadata": {},
   "outputs": [],
   "source": [
    "#scatter plot pred01/class01\n",
    "var = 'pred02'\n",
    "data = pd.concat([df_train['class01'], df_train[var]], axis=1)\n",
    "data.plot.scatter(x=var, y='class01', ylim=(0,4));"
   ]
  },
  {
   "cell_type": "code",
   "execution_count": null,
   "id": "floating-socket",
   "metadata": {},
   "outputs": [],
   "source": [
    "#correlation matrix\n",
    "corrmat = df_train.corr()\n",
    "f, ax = plt.subplots(figsize=(12, 9))\n",
    "sns.heatmap(corrmat, vmax=.8, square=True,annot=True);\n",
    "#use pred06 not 5 and not 7"
   ]
  },
  {
   "cell_type": "code",
   "execution_count": null,
   "id": "black-earth",
   "metadata": {},
   "outputs": [],
   "source": [
    "#correlation matrix\n",
    "corrmat = df_test.corr()\n",
    "f, ax = plt.subplots(figsize=(12, 9))\n",
    "sns.heatmap(corrmat, vmax=.8, square=True,annot=True);\n",
    "#use pred06 not 5 and not 7"
   ]
  },
  {
   "cell_type": "code",
   "execution_count": null,
   "id": "advance-catalog",
   "metadata": {},
   "outputs": [],
   "source": [
    "#scatterplot\n",
    "sns.set()\n",
    "df=df_train.drop(['ID'],axis=1)\n",
    "sns.pairplot(df)\n",
    "plt.show()"
   ]
  },
  {
   "cell_type": "code",
   "execution_count": null,
   "id": "aggregate-success",
   "metadata": {},
   "outputs": [],
   "source": [
    "total = df_train.isnull().sum().sort_values(ascending=False)\n",
    "percent = (df_train.isnull().sum()/df_train.isnull().count()).sort_values(ascending=False)\n",
    "missing_data = pd.concat([total, percent], axis=1, keys=['Total', 'Percent'])\n",
    "missing_data.head(20)"
   ]
  },
  {
   "cell_type": "code",
   "execution_count": null,
   "id": "finnish-light",
   "metadata": {},
   "outputs": [],
   "source": [
    "df_train=df_train.dropna()\n",
    "df_train.isnull().sum().max()"
   ]
  },
  {
   "cell_type": "markdown",
   "id": "technical-nebraska",
   "metadata": {},
   "source": [
    "Univariate analysis\n"
   ]
  },
  {
   "cell_type": "code",
   "execution_count": null,
   "id": "recreational-winter",
   "metadata": {},
   "outputs": [],
   "source": [
    "#histogram and normal probability plot\n",
    "def normalcheck(df_train,col):\n",
    "    sns.distplot(df_train[col], fit=norm);\n",
    "    fig = plt.figure()\n",
    "    res = stats.probplot(df_train[col], plot=plt)"
   ]
  },
  {
   "cell_type": "code",
   "execution_count": null,
   "id": "legendary-shooting",
   "metadata": {},
   "outputs": [],
   "source": [
    "normalcheck(df_train,'pred01')"
   ]
  },
  {
   "cell_type": "code",
   "execution_count": null,
   "id": "rotary-titanium",
   "metadata": {},
   "outputs": [],
   "source": [
    "normalcheck( df_train,'pred02')"
   ]
  },
  {
   "cell_type": "code",
   "execution_count": null,
   "id": "placed-trouble",
   "metadata": {},
   "outputs": [],
   "source": [
    "normalcheck(df_train,'pred03')"
   ]
  },
  {
   "cell_type": "code",
   "execution_count": null,
   "id": "arranged-reward",
   "metadata": {},
   "outputs": [],
   "source": [
    "normalcheck(df_train,'pred04')"
   ]
  },
  {
   "cell_type": "code",
   "execution_count": null,
   "id": "generous-currency",
   "metadata": {},
   "outputs": [],
   "source": [
    "normalcheck(df_train,'pred05')"
   ]
  },
  {
   "cell_type": "code",
   "execution_count": null,
   "id": "raised-mistake",
   "metadata": {},
   "outputs": [],
   "source": [
    "normalcheck(df_train,'pred06')"
   ]
  },
  {
   "cell_type": "code",
   "execution_count": null,
   "id": "bottom-russian",
   "metadata": {},
   "outputs": [],
   "source": [
    "normalcheck(df_train,'pred07')"
   ]
  },
  {
   "cell_type": "code",
   "execution_count": null,
   "id": "closed-prefix",
   "metadata": {},
   "outputs": [],
   "source": [
    "#### Geometric object to use for drawing\n",
    "(\n",
    "    ggplot(df_train)  # What data to use\n",
    "    + aes(x='pred03', y='class02')  # What variable to use\n",
    "    + geom_point(aes(color='factor(class02)'))\n",
    ")"
   ]
  },
  {
   "cell_type": "code",
   "execution_count": null,
   "id": "offensive-savannah",
   "metadata": {},
   "outputs": [],
   "source": [
    "df=df_train.drop(['ID','class01','class02'],axis=1)\n",
    "df.head()"
   ]
  },
  {
   "cell_type": "code",
   "execution_count": null,
   "id": "controlling-circulation",
   "metadata": {},
   "outputs": [],
   "source": [
    "from factor_analyzer.factor_analyzer import calculate_bartlett_sphericity\n",
    "chi_square_value,p_value=calculate_bartlett_sphericity(df)\n",
    "chi_square_value, p_value\n",
    "#In this Bartlett ’s test, the p-value is 0. The test was statistically significant,\n",
    "#indicating that the observed correlation matrix is not an identity matrix.\n",
    "\n"
   ]
  },
  {
   "cell_type": "code",
   "execution_count": null,
   "id": "presidential-canada",
   "metadata": {},
   "outputs": [],
   "source": [
    "from factor_analyzer.factor_analyzer import calculate_kmo\n",
    "kmo_all,kmo_model=calculate_kmo(df)\n",
    "kmo_model\n",
    "#The overall KMO for our data is 0.68, which is not good"
   ]
  },
  {
   "cell_type": "code",
   "execution_count": null,
   "id": "respective-accident",
   "metadata": {},
   "outputs": [],
   "source": [
    "kmo_all"
   ]
  },
  {
   "cell_type": "code",
   "execution_count": null,
   "id": "younger-american",
   "metadata": {},
   "outputs": [],
   "source": [
    "# Create factor analysis object and perform factor analysis\n",
    "fa = FactorAnalyzer()\n",
    "fa.fit(df)\n",
    "# Check Eigenvalues\n",
    "ev, v = fa.get_eigenvalues()\n",
    "ev"
   ]
  },
  {
   "cell_type": "code",
   "execution_count": null,
   "id": "hungarian-circle",
   "metadata": {},
   "outputs": [],
   "source": [
    "# Create scree plot using matplotlib\n",
    "plt.scatter(range(1,df.shape[1]+1),ev)\n",
    "plt.plot(range(1,df.shape[1]+1),ev)\n",
    "plt.title('Scree Plot')\n",
    "plt.xlabel('Factors')\n",
    "plt.ylabel('Eigenvalue')\n",
    "plt.grid()\n",
    "plt.show()\n",
    "#factor above 1 to be taken"
   ]
  },
  {
   "cell_type": "code",
   "execution_count": null,
   "id": "surrounded-culture",
   "metadata": {},
   "outputs": [],
   "source": [
    "fa = FactorAnalyzer()\n",
    "fa.set_params(n_factors=2, rotation='varimax')\n",
    "fa.fit(df)\n",
    "loadings = fa.loadings_"
   ]
  },
  {
   "cell_type": "code",
   "execution_count": null,
   "id": "offshore-cliff",
   "metadata": {},
   "outputs": [],
   "source": [
    "loadings"
   ]
  },
  {
   "cell_type": "code",
   "execution_count": null,
   "id": "negative-beast",
   "metadata": {},
   "outputs": [],
   "source": [
    "fa"
   ]
  },
  {
   "cell_type": "code",
   "execution_count": null,
   "id": "elder-ranking",
   "metadata": {},
   "outputs": [],
   "source": [
    "fa.get_factor_variance()\n",
    "#Total 70% cumulative Variance explained by the 2 factors."
   ]
  },
  {
   "cell_type": "code",
   "execution_count": null,
   "id": "embedded-management",
   "metadata": {},
   "outputs": [],
   "source": [
    "df_train['pred02'].iloc[np.where(df_train['pred02']<1)]=df_train['pred02'].iloc[np.where(df_train['pred02']<1)]*100"
   ]
  },
  {
   "cell_type": "code",
   "execution_count": null,
   "id": "raising-cameroon",
   "metadata": {},
   "outputs": [],
   "source": [
    "df_train['pred02'].iloc[np.where(df['pred02']>1)]"
   ]
  },
  {
   "cell_type": "code",
   "execution_count": null,
   "id": "failing-microphone",
   "metadata": {},
   "outputs": [],
   "source": [
    "def check_outlier(x):\n",
    "    if x<1.0:\n",
    "        return x*100\n",
    "    return x"
   ]
  },
  {
   "cell_type": "code",
   "execution_count": null,
   "id": "broad-stereo",
   "metadata": {},
   "outputs": [],
   "source": []
  },
  {
   "cell_type": "code",
   "execution_count": null,
   "id": "another-genre",
   "metadata": {},
   "outputs": [],
   "source": [
    "df = df.map(lambda x: check_outlier(x['pred02']))"
   ]
  },
  {
   "cell_type": "code",
   "execution_count": null,
   "id": "false-questionnaire",
   "metadata": {},
   "outputs": [],
   "source": [
    "df"
   ]
  },
  {
   "cell_type": "code",
   "execution_count": null,
   "id": "promotional-albert",
   "metadata": {},
   "outputs": [],
   "source": []
  },
  {
   "cell_type": "code",
   "execution_count": null,
   "id": "swedish-international",
   "metadata": {},
   "outputs": [],
   "source": []
  }
 ],
 "metadata": {
  "kernelspec": {
   "display_name": "Python 3",
   "language": "python",
   "name": "python3"
  },
  "language_info": {
   "codemirror_mode": {
    "name": "ipython",
    "version": 3
   },
   "file_extension": ".py",
   "mimetype": "text/x-python",
   "name": "python",
   "nbconvert_exporter": "python",
   "pygments_lexer": "ipython3",
   "version": "3.7.4"
  }
 },
 "nbformat": 4,
 "nbformat_minor": 5
}
